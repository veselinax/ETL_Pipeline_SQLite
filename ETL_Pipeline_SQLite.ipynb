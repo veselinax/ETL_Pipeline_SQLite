{
 "cells": [
  {
   "cell_type": "code",
   "execution_count": 4,
   "id": "884a7f4c-b40f-494c-8268-752edb082fa3",
   "metadata": {},
   "outputs": [],
   "source": [
    "import pandas as pd\n",
    "import sqlite3\n",
    "import matplotlib.pyplot as plt"
   ]
  },
  {
   "cell_type": "code",
   "execution_count": 6,
   "id": "e03f3602-8093-4d1b-89a7-a4dc470c8ae1",
   "metadata": {},
   "outputs": [],
   "source": [
    "# Load data from CSV file\n",
    "df = pd.read_csv(\"sales_data.csv\")"
   ]
  },
  {
   "cell_type": "code",
   "execution_count": 6,
   "id": "7a7ba2ef-a8dd-47cf-bce4-14af98215498",
   "metadata": {},
   "outputs": [
    {
     "data": {
      "text/html": [
       "<div>\n",
       "<style scoped>\n",
       "    .dataframe tbody tr th:only-of-type {\n",
       "        vertical-align: middle;\n",
       "    }\n",
       "\n",
       "    .dataframe tbody tr th {\n",
       "        vertical-align: top;\n",
       "    }\n",
       "\n",
       "    .dataframe thead th {\n",
       "        text-align: right;\n",
       "    }\n",
       "</style>\n",
       "<table border=\"1\" class=\"dataframe\">\n",
       "  <thead>\n",
       "    <tr style=\"text-align: right;\">\n",
       "      <th></th>\n",
       "      <th>OrderID</th>\n",
       "      <th>Customer</th>\n",
       "      <th>Product</th>\n",
       "      <th>Quantity</th>\n",
       "      <th>Price</th>\n",
       "      <th>OrderDate</th>\n",
       "    </tr>\n",
       "  </thead>\n",
       "  <tbody>\n",
       "    <tr>\n",
       "      <th>0</th>\n",
       "      <td>1001</td>\n",
       "      <td>Alice</td>\n",
       "      <td>Laptop</td>\n",
       "      <td>1</td>\n",
       "      <td>1200.50</td>\n",
       "      <td>2024-03-01</td>\n",
       "    </tr>\n",
       "    <tr>\n",
       "      <th>1</th>\n",
       "      <td>1002</td>\n",
       "      <td>Bob</td>\n",
       "      <td>Keyboard</td>\n",
       "      <td>2</td>\n",
       "      <td>45.99</td>\n",
       "      <td>2024-03-02</td>\n",
       "    </tr>\n",
       "    <tr>\n",
       "      <th>2</th>\n",
       "      <td>1003</td>\n",
       "      <td>Charlie</td>\n",
       "      <td>Mouse</td>\n",
       "      <td>3</td>\n",
       "      <td>25.75</td>\n",
       "      <td>2024-03-03</td>\n",
       "    </tr>\n",
       "    <tr>\n",
       "      <th>3</th>\n",
       "      <td>1004</td>\n",
       "      <td>David</td>\n",
       "      <td>Monitor</td>\n",
       "      <td>1</td>\n",
       "      <td>300.00</td>\n",
       "      <td>2024-03-04</td>\n",
       "    </tr>\n",
       "    <tr>\n",
       "      <th>4</th>\n",
       "      <td>1005</td>\n",
       "      <td>Emma</td>\n",
       "      <td>Headphones</td>\n",
       "      <td>2</td>\n",
       "      <td>79.99</td>\n",
       "      <td>2024-03-05</td>\n",
       "    </tr>\n",
       "  </tbody>\n",
       "</table>\n",
       "</div>"
      ],
      "text/plain": [
       "   OrderID Customer     Product  Quantity    Price   OrderDate\n",
       "0     1001    Alice      Laptop         1  1200.50  2024-03-01\n",
       "1     1002      Bob    Keyboard         2    45.99  2024-03-02\n",
       "2     1003  Charlie       Mouse         3    25.75  2024-03-03\n",
       "3     1004    David     Monitor         1   300.00  2024-03-04\n",
       "4     1005     Emma  Headphones         2    79.99  2024-03-05"
      ]
     },
     "execution_count": 6,
     "metadata": {},
     "output_type": "execute_result"
    }
   ],
   "source": [
    "# Display first 5 rows\n",
    "df.head()"
   ]
  },
  {
   "cell_type": "code",
   "execution_count": 14,
   "id": "b779c0db-c9b0-471d-bff0-278e8e7d305a",
   "metadata": {},
   "outputs": [],
   "source": [
    "# Handle missing values\n",
    "df.fillna({\"Customer\": \"Unknown\", \"Product\": \"Unknown\", \"Quantity\": 1, \"Price\": 0}, inplace=True) \n",
    "# inplace=True modifies the DataFrame directly instead of creating a copy\n",
    "# Avoid empty customer names\n",
    "# Avoid empty product names\n",
    "# If missing, assume a minimum quantity of 1\n",
    "# If missing, assume no charge for unknown prices"
   ]
  },
  {
   "cell_type": "code",
   "execution_count": 30,
   "id": "b09aca57-8da9-49b6-a936-60364c375c46",
   "metadata": {},
   "outputs": [],
   "source": [
    "# Convert OrderDate column from string to datetime format\n",
    "df[\"OrderDate\"] = pd.to_datetime(df[\"OrderDate\"])\n"
   ]
  },
  {
   "cell_type": "code",
   "execution_count": 31,
   "id": "4e06bc35-5bcc-471c-8d41-57229fa09ad6",
   "metadata": {},
   "outputs": [],
   "source": [
    "# Create a new column for Total Price to track total sales revenue per order\n",
    "df[\"Total_Price\"] = df[\"Quantity\"] * df[\"Price\"]"
   ]
  },
  {
   "cell_type": "code",
   "execution_count": 17,
   "id": "62870bb2-6e75-4617-b680-19e802952a56",
   "metadata": {},
   "outputs": [
    {
     "data": {
      "text/html": [
       "<div>\n",
       "<style scoped>\n",
       "    .dataframe tbody tr th:only-of-type {\n",
       "        vertical-align: middle;\n",
       "    }\n",
       "\n",
       "    .dataframe tbody tr th {\n",
       "        vertical-align: top;\n",
       "    }\n",
       "\n",
       "    .dataframe thead th {\n",
       "        text-align: right;\n",
       "    }\n",
       "</style>\n",
       "<table border=\"1\" class=\"dataframe\">\n",
       "  <thead>\n",
       "    <tr style=\"text-align: right;\">\n",
       "      <th></th>\n",
       "      <th>OrderID</th>\n",
       "      <th>Customer</th>\n",
       "      <th>Product</th>\n",
       "      <th>Quantity</th>\n",
       "      <th>Price</th>\n",
       "      <th>OrderDate</th>\n",
       "      <th>Total_Price</th>\n",
       "    </tr>\n",
       "  </thead>\n",
       "  <tbody>\n",
       "    <tr>\n",
       "      <th>0</th>\n",
       "      <td>1001</td>\n",
       "      <td>Alice</td>\n",
       "      <td>Laptop</td>\n",
       "      <td>1</td>\n",
       "      <td>1200.50</td>\n",
       "      <td>2024-03-01</td>\n",
       "      <td>1200.50</td>\n",
       "    </tr>\n",
       "    <tr>\n",
       "      <th>1</th>\n",
       "      <td>1002</td>\n",
       "      <td>Bob</td>\n",
       "      <td>Keyboard</td>\n",
       "      <td>2</td>\n",
       "      <td>45.99</td>\n",
       "      <td>2024-03-02</td>\n",
       "      <td>91.98</td>\n",
       "    </tr>\n",
       "    <tr>\n",
       "      <th>2</th>\n",
       "      <td>1003</td>\n",
       "      <td>Charlie</td>\n",
       "      <td>Mouse</td>\n",
       "      <td>3</td>\n",
       "      <td>25.75</td>\n",
       "      <td>2024-03-03</td>\n",
       "      <td>77.25</td>\n",
       "    </tr>\n",
       "    <tr>\n",
       "      <th>3</th>\n",
       "      <td>1004</td>\n",
       "      <td>David</td>\n",
       "      <td>Monitor</td>\n",
       "      <td>1</td>\n",
       "      <td>300.00</td>\n",
       "      <td>2024-03-04</td>\n",
       "      <td>300.00</td>\n",
       "    </tr>\n",
       "    <tr>\n",
       "      <th>4</th>\n",
       "      <td>1005</td>\n",
       "      <td>Emma</td>\n",
       "      <td>Headphones</td>\n",
       "      <td>2</td>\n",
       "      <td>79.99</td>\n",
       "      <td>2024-03-05</td>\n",
       "      <td>159.98</td>\n",
       "    </tr>\n",
       "  </tbody>\n",
       "</table>\n",
       "</div>"
      ],
      "text/plain": [
       "   OrderID Customer     Product  Quantity    Price  OrderDate  Total_Price\n",
       "0     1001    Alice      Laptop         1  1200.50 2024-03-01      1200.50\n",
       "1     1002      Bob    Keyboard         2    45.99 2024-03-02        91.98\n",
       "2     1003  Charlie       Mouse         3    25.75 2024-03-03        77.25\n",
       "3     1004    David     Monitor         1   300.00 2024-03-04       300.00\n",
       "4     1005     Emma  Headphones         2    79.99 2024-03-05       159.98"
      ]
     },
     "execution_count": 17,
     "metadata": {},
     "output_type": "execute_result"
    }
   ],
   "source": [
    "# Display transformed data\n",
    "df.head()"
   ]
  },
  {
   "cell_type": "code",
   "execution_count": 18,
   "id": "11ccbf80-4650-46f1-9963-d3f59ad4cb06",
   "metadata": {},
   "outputs": [
    {
     "data": {
      "text/html": [
       "<div>\n",
       "<style scoped>\n",
       "    .dataframe tbody tr th:only-of-type {\n",
       "        vertical-align: middle;\n",
       "    }\n",
       "\n",
       "    .dataframe tbody tr th {\n",
       "        vertical-align: top;\n",
       "    }\n",
       "\n",
       "    .dataframe thead th {\n",
       "        text-align: right;\n",
       "    }\n",
       "</style>\n",
       "<table border=\"1\" class=\"dataframe\">\n",
       "  <thead>\n",
       "    <tr style=\"text-align: right;\">\n",
       "      <th></th>\n",
       "      <th>OrderID</th>\n",
       "      <th>Customer</th>\n",
       "      <th>Product</th>\n",
       "      <th>Quantity</th>\n",
       "      <th>Price</th>\n",
       "      <th>OrderDate</th>\n",
       "      <th>Total_Price</th>\n",
       "    </tr>\n",
       "  </thead>\n",
       "  <tbody>\n",
       "    <tr>\n",
       "      <th>0</th>\n",
       "      <td>1001</td>\n",
       "      <td>Alice</td>\n",
       "      <td>Laptop</td>\n",
       "      <td>1</td>\n",
       "      <td>1200.50</td>\n",
       "      <td>2024-03-01</td>\n",
       "      <td>1200.50</td>\n",
       "    </tr>\n",
       "    <tr>\n",
       "      <th>1</th>\n",
       "      <td>1002</td>\n",
       "      <td>Bob</td>\n",
       "      <td>Keyboard</td>\n",
       "      <td>2</td>\n",
       "      <td>45.99</td>\n",
       "      <td>2024-03-02</td>\n",
       "      <td>91.98</td>\n",
       "    </tr>\n",
       "    <tr>\n",
       "      <th>2</th>\n",
       "      <td>1003</td>\n",
       "      <td>Charlie</td>\n",
       "      <td>Mouse</td>\n",
       "      <td>3</td>\n",
       "      <td>25.75</td>\n",
       "      <td>2024-03-03</td>\n",
       "      <td>77.25</td>\n",
       "    </tr>\n",
       "    <tr>\n",
       "      <th>3</th>\n",
       "      <td>1004</td>\n",
       "      <td>David</td>\n",
       "      <td>Monitor</td>\n",
       "      <td>1</td>\n",
       "      <td>300.00</td>\n",
       "      <td>2024-03-04</td>\n",
       "      <td>300.00</td>\n",
       "    </tr>\n",
       "    <tr>\n",
       "      <th>4</th>\n",
       "      <td>1005</td>\n",
       "      <td>Emma</td>\n",
       "      <td>Headphones</td>\n",
       "      <td>2</td>\n",
       "      <td>79.99</td>\n",
       "      <td>2024-03-05</td>\n",
       "      <td>159.98</td>\n",
       "    </tr>\n",
       "    <tr>\n",
       "      <th>5</th>\n",
       "      <td>1006</td>\n",
       "      <td>Frank</td>\n",
       "      <td>Keyboard</td>\n",
       "      <td>1</td>\n",
       "      <td>45.99</td>\n",
       "      <td>2024-03-06</td>\n",
       "      <td>45.99</td>\n",
       "    </tr>\n",
       "    <tr>\n",
       "      <th>6</th>\n",
       "      <td>1007</td>\n",
       "      <td>Grace</td>\n",
       "      <td>Mouse</td>\n",
       "      <td>2</td>\n",
       "      <td>25.75</td>\n",
       "      <td>2024-03-07</td>\n",
       "      <td>51.50</td>\n",
       "    </tr>\n",
       "    <tr>\n",
       "      <th>7</th>\n",
       "      <td>1008</td>\n",
       "      <td>Hannah</td>\n",
       "      <td>Laptop</td>\n",
       "      <td>1</td>\n",
       "      <td>1200.50</td>\n",
       "      <td>2024-03-08</td>\n",
       "      <td>1200.50</td>\n",
       "    </tr>\n",
       "    <tr>\n",
       "      <th>8</th>\n",
       "      <td>1009</td>\n",
       "      <td>Ian</td>\n",
       "      <td>Monitor</td>\n",
       "      <td>3</td>\n",
       "      <td>300.00</td>\n",
       "      <td>2024-03-09</td>\n",
       "      <td>900.00</td>\n",
       "    </tr>\n",
       "    <tr>\n",
       "      <th>9</th>\n",
       "      <td>1010</td>\n",
       "      <td>Jack</td>\n",
       "      <td>Headphones</td>\n",
       "      <td>1</td>\n",
       "      <td>79.99</td>\n",
       "      <td>2024-03-10</td>\n",
       "      <td>79.99</td>\n",
       "    </tr>\n",
       "  </tbody>\n",
       "</table>\n",
       "</div>"
      ],
      "text/plain": [
       "   OrderID Customer     Product  Quantity    Price  OrderDate  Total_Price\n",
       "0     1001    Alice      Laptop         1  1200.50 2024-03-01      1200.50\n",
       "1     1002      Bob    Keyboard         2    45.99 2024-03-02        91.98\n",
       "2     1003  Charlie       Mouse         3    25.75 2024-03-03        77.25\n",
       "3     1004    David     Monitor         1   300.00 2024-03-04       300.00\n",
       "4     1005     Emma  Headphones         2    79.99 2024-03-05       159.98\n",
       "5     1006    Frank    Keyboard         1    45.99 2024-03-06        45.99\n",
       "6     1007    Grace       Mouse         2    25.75 2024-03-07        51.50\n",
       "7     1008   Hannah      Laptop         1  1200.50 2024-03-08      1200.50\n",
       "8     1009      Ian     Monitor         3   300.00 2024-03-09       900.00\n",
       "9     1010     Jack  Headphones         1    79.99 2024-03-10        79.99"
      ]
     },
     "execution_count": 18,
     "metadata": {},
     "output_type": "execute_result"
    }
   ],
   "source": [
    "df"
   ]
  },
  {
   "cell_type": "code",
   "execution_count": 34,
   "id": "d060ea7f-224d-4d55-8be2-6ebff03f4f78",
   "metadata": {},
   "outputs": [],
   "source": [
    "# Connect to SQLite database (creates file if not exists) If sales_data.db does not exist, it will be created automatically\n",
    "conn = sqlite3.connect(\"sales_data.db\")  # conn is the database connection object"
   ]
  },
  {
   "cell_type": "code",
   "execution_count": 35,
   "id": "6c649d5d-7c08-4c11-8bc3-a27ace2f8887",
   "metadata": {},
   "outputs": [],
   "source": [
    "# Create a cursor\n",
    "cursor = conn.cursor() #cursor() is used to send commands to the database and fetch results\n",
    "#This cursor object allows us to execute SQL commands\n",
    "#Without it, we cannot send SQL queries to the database"
   ]
  },
  {
   "cell_type": "code",
   "execution_count": 37,
   "id": "12149ee0-4fe9-43ab-8eb1-dc09d2c962af",
   "metadata": {},
   "outputs": [
    {
     "data": {
      "text/plain": [
       "<sqlite3.Cursor at 0x133f53d3040>"
      ]
     },
     "execution_count": 37,
     "metadata": {},
     "output_type": "execute_result"
    }
   ],
   "source": [
    "#Now that we have a cursor, we can create tables, insert data, and query the database\n",
    "# Create sales table\n",
    "cursor.execute(\"\"\"\n",
    "    CREATE TABLE IF NOT EXISTS sales (\n",
    "        OrderID INTEGER PRIMARY KEY,\n",
    "        Customer TEXT,\n",
    "        Product TEXT,\n",
    "        Quantity INTEGER,\n",
    "        Price REAL,\n",
    "        OrderDate TEXT,\n",
    "        Total_Price REAL\n",
    "    )\n",
    "\"\"\")\n",
    "\n",
    "#execute() sends this SQL command to create a table\n",
    "#The IF NOT EXISTS part ensures the table is created only if it doesn't already exist"
   ]
  },
  {
   "cell_type": "code",
   "execution_count": 38,
   "id": "9d0718f8-d46f-4d23-8eee-5a73a292efed",
   "metadata": {},
   "outputs": [
    {
     "name": "stdout",
     "output_type": "stream",
     "text": [
      "SQLite database and table created successfully!\n"
     ]
    }
   ],
   "source": [
    "# Commit changes After making any modifications (e.g., inserting data), we need to save changes to the database\n",
    "conn.commit() #commit() permanently saves changes (like inserting, updating, or deleting records)\n",
    "print(\"SQLite database and table created successfully!\")"
   ]
  },
  {
   "cell_type": "code",
   "execution_count": 23,
   "id": "fe0dc1ba-f9d6-4b9b-bc95-520e78844721",
   "metadata": {},
   "outputs": [
    {
     "data": {
      "text/plain": [
       "10"
      ]
     },
     "execution_count": 23,
     "metadata": {},
     "output_type": "execute_result"
    }
   ],
   "source": [
    "# Load DataFrame into SQLite table\n",
    "df.to_sql(\"sales\", conn, if_exists=\"replace\", index=False)"
   ]
  },
  {
   "cell_type": "code",
   "execution_count": 24,
   "id": "e6abc395-ce45-4ae3-91c9-2b3d92a0b462",
   "metadata": {},
   "outputs": [
    {
     "name": "stdout",
     "output_type": "stream",
     "text": [
      "Data successfully loaded into SQLite database!\n"
     ]
    }
   ],
   "source": [
    "print(\"Data successfully loaded into SQLite database!\")"
   ]
  },
  {
   "cell_type": "code",
   "execution_count": 40,
   "id": "855b1d59-aaf6-4a43-8705-d447a2f156ee",
   "metadata": {},
   "outputs": [
    {
     "name": "stdout",
     "output_type": "stream",
     "text": [
      "Total Revenue:\n",
      "   Total_Revenue\n",
      "0        4107.69\n"
     ]
    }
   ],
   "source": [
    "# Query total revenue\n",
    "query = \"SELECT SUM(Total_Price) AS Total_Revenue FROM sales\" #execute(\"SELECT * FROM sales\") → Runs an SQL query Run SQL queries to analyze data stored in the SQLite database\n",
    "total_revenue = pd.read_sql(query, conn) # Calculate total revenue from all sales\n",
    "print(\"Total Revenue:\")\n",
    "print(total_revenue)"
   ]
  },
  {
   "cell_type": "code",
   "execution_count": 41,
   "id": "09e5b6f1-a1df-479d-9efd-76d2728b41ed",
   "metadata": {},
   "outputs": [
    {
     "name": "stdout",
     "output_type": "stream",
     "text": [
      "\n",
      "Top Selling Products:\n",
      "      Product  Total_Units_Sold\n",
      "0       Mouse                 5\n",
      "1     Monitor                 4\n",
      "2    Keyboard                 3\n",
      "3  Headphones                 3\n",
      "4      Laptop                 2\n"
     ]
    }
   ],
   "source": [
    "# Query top selling products\n",
    "query = \"\"\"\n",
    "    SELECT Product, SUM(Quantity) AS Total_Units_Sold\n",
    "    FROM sales\n",
    "    GROUP BY Product\n",
    "    ORDER BY Total_Units_Sold DESC\n",
    "\"\"\"\n",
    "top_products = pd.read_sql(query, conn)  #Identify top-selling products\n",
    "print(\"\\nTop Selling Products:\")\n",
    "print(top_products)"
   ]
  },
  {
   "cell_type": "code",
   "execution_count": 44,
   "id": "2d614347-2a00-48b9-9888-5fc678b064fc",
   "metadata": {},
   "outputs": [
    {
     "data": {
      "image/png": "[encoded data removed]",
      "text/plain": [
       "<Figure size 1000x500 with 1 Axes>"
      ]
     },
     "metadata": {},
     "output_type": "display_data"
    }
   ],
   "source": [
    "\n",
    "# Plot the best-selling products\n",
    "plt.figure(figsize=(10,5))\n",
    "plt.bar(top_products[\"Product\"], top_products[\"Total_Units_Sold\"], color='blue')\n",
    "plt.xlabel(\"Product\")\n",
    "plt.ylabel(\"Total Units Sold\")\n",
    "plt.title(\"Best-Selling Products\")\n",
    "plt.xticks(rotation=45)\n",
    "plt.grid(axis='y', linestyle='--', alpha=0.7)\n",
    "\n",
    "# Show the bar chart\n",
    "plt.show()\n"
   ]
  },
  {
   "cell_type": "code",
   "execution_count": 43,
   "id": "0e31c0db-a2b7-4b2b-8afa-42105559f616",
   "metadata": {},
   "outputs": [],
   "source": [
    "# Query daily sales trend Extract daily sales data from the SQLite database\n",
    "sales_trend = pd.read_sql(\"SELECT OrderDate, SUM(Total_Price) AS Total_Sales FROM sales GROUP BY OrderDate\", conn)\n",
    "#Create a line graph to show revenue trends over time"
   ]
  },
  {
   "cell_type": "code",
   "execution_count": 28,
   "id": "6bce57f6-c01d-4c4e-a04d-60cd1a450712",
   "metadata": {},
   "outputs": [],
   "source": [
    "# Convert OrderDate to datetime\n",
    "sales_trend[\"OrderDate\"] = pd.to_datetime(sales_trend[\"OrderDate\"])"
   ]
  },
  {
   "cell_type": "code",
   "execution_count": 29,
   "id": "1aad4a9e-2f7a-4cbe-91c9-e7e2ea584528",
   "metadata": {},
   "outputs": [
    {
     "data": {
      "image/png": "[encoded data removed]",
      "text/plain": [
       "<Figure size 1000x500 with 1 Axes>"
      ]
     },
     "metadata": {},
     "output_type": "display_data"
    }
   ],
   "source": [
    "# Plot sales trend\n",
    "plt.figure(figsize=(10,5))\n",
    "plt.plot(sales_trend[\"OrderDate\"], sales_trend[\"Total_Sales\"], marker=\"o\", linestyle=\"-\")\n",
    "plt.xlabel(\"Date\")\n",
    "plt.ylabel(\"Total Sales ($)\")\n",
    "plt.title(\"Daily Sales Trend\")\n",
    "plt.grid(True)\n",
    "plt.xticks(rotation=45)\n",
    "plt.show()"
   ]
  },
  {
   "cell_type": "code",
   "execution_count": null,
   "id": "d43317f1-c9c5-45e6-a244-dfa9cda348ca",
   "metadata": {},
   "outputs": [],
   "source": []
  }
 ],
 "metadata": {
  "kernelspec": {
   "display_name": "Python 3 (ipykernel)",
   "language": "python",
   "name": "python3"
  },
  "language_info": {
   "codemirror_mode": {
    "name": "ipython",
    "version": 3
   },
   "file_extension": ".py",
   "mimetype": "text/x-python",
   "name": "python",
   "nbconvert_exporter": "python",
   "pygments_lexer": "ipython3",
   "version": "3.13.0"
  }
 },
 "nbformat": 4,
 "nbformat_minor": 5
}
